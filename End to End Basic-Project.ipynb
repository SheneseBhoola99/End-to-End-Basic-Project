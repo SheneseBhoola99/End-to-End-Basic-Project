{
 "cells": [
  {
   "cell_type": "markdown",
   "id": "3965eb72",
   "metadata": {},
   "source": [
    "# 2022 UKRAINE AND RUSSIA WAR\n",
    "Predict the percentage of people who survived the war in 2022"
   ]
  },
  {
   "cell_type": "markdown",
   "id": "42fc1b7d",
   "metadata": {},
   "source": [
    "# Loading Dataset"
   ]
  },
  {
   "cell_type": "code",
   "execution_count": 1,
   "id": "7bbbde27",
   "metadata": {},
   "outputs": [],
   "source": [
    "#Importing Libraries\n",
    "import numpy as np\n",
    "import pandas as pd\n",
    "import matplotlib.pyplot as plt\n",
    "from sklearn.linear_model import LinearRegression"
   ]
  },
  {
   "cell_type": "markdown",
   "id": "e30abc7a",
   "metadata": {},
   "source": [
    "# Read Data"
   ]
  },
  {
   "cell_type": "code",
   "execution_count": 2,
   "id": "0bd0e7ec",
   "metadata": {},
   "outputs": [
    {
     "data": {
      "text/html": [
       "<div>\n",
       "<style scoped>\n",
       "    .dataframe tbody tr th:only-of-type {\n",
       "        vertical-align: middle;\n",
       "    }\n",
       "\n",
       "    .dataframe tbody tr th {\n",
       "        vertical-align: top;\n",
       "    }\n",
       "\n",
       "    .dataframe thead th {\n",
       "        text-align: right;\n",
       "    }\n",
       "</style>\n",
       "<table border=\"1\" class=\"dataframe\">\n",
       "  <thead>\n",
       "    <tr style=\"text-align: right;\">\n",
       "      <th></th>\n",
       "      <th>date</th>\n",
       "      <th>day</th>\n",
       "      <th>aircraft</th>\n",
       "      <th>helicopter</th>\n",
       "      <th>tank</th>\n",
       "      <th>APC</th>\n",
       "      <th>field artillery</th>\n",
       "      <th>MRL</th>\n",
       "      <th>military auto</th>\n",
       "      <th>fuel tank</th>\n",
       "      <th>drone</th>\n",
       "      <th>naval ship</th>\n",
       "      <th>anti-aircraft warfare</th>\n",
       "      <th>special equipment</th>\n",
       "      <th>mobile SRBM system</th>\n",
       "    </tr>\n",
       "  </thead>\n",
       "  <tbody>\n",
       "    <tr>\n",
       "      <th>0</th>\n",
       "      <td>2022-02-25</td>\n",
       "      <td>2</td>\n",
       "      <td>10</td>\n",
       "      <td>7</td>\n",
       "      <td>80</td>\n",
       "      <td>516</td>\n",
       "      <td>49</td>\n",
       "      <td>4</td>\n",
       "      <td>100</td>\n",
       "      <td>60</td>\n",
       "      <td>0</td>\n",
       "      <td>2</td>\n",
       "      <td>0</td>\n",
       "      <td>NaN</td>\n",
       "      <td>NaN</td>\n",
       "    </tr>\n",
       "    <tr>\n",
       "      <th>1</th>\n",
       "      <td>2022-02-26</td>\n",
       "      <td>3</td>\n",
       "      <td>27</td>\n",
       "      <td>26</td>\n",
       "      <td>146</td>\n",
       "      <td>706</td>\n",
       "      <td>49</td>\n",
       "      <td>4</td>\n",
       "      <td>130</td>\n",
       "      <td>60</td>\n",
       "      <td>2</td>\n",
       "      <td>2</td>\n",
       "      <td>0</td>\n",
       "      <td>NaN</td>\n",
       "      <td>NaN</td>\n",
       "    </tr>\n",
       "    <tr>\n",
       "      <th>2</th>\n",
       "      <td>2022-02-27</td>\n",
       "      <td>4</td>\n",
       "      <td>27</td>\n",
       "      <td>26</td>\n",
       "      <td>150</td>\n",
       "      <td>706</td>\n",
       "      <td>50</td>\n",
       "      <td>4</td>\n",
       "      <td>130</td>\n",
       "      <td>60</td>\n",
       "      <td>2</td>\n",
       "      <td>2</td>\n",
       "      <td>0</td>\n",
       "      <td>NaN</td>\n",
       "      <td>NaN</td>\n",
       "    </tr>\n",
       "    <tr>\n",
       "      <th>3</th>\n",
       "      <td>2022-02-28</td>\n",
       "      <td>5</td>\n",
       "      <td>29</td>\n",
       "      <td>29</td>\n",
       "      <td>150</td>\n",
       "      <td>816</td>\n",
       "      <td>74</td>\n",
       "      <td>21</td>\n",
       "      <td>291</td>\n",
       "      <td>60</td>\n",
       "      <td>3</td>\n",
       "      <td>2</td>\n",
       "      <td>5</td>\n",
       "      <td>NaN</td>\n",
       "      <td>NaN</td>\n",
       "    </tr>\n",
       "    <tr>\n",
       "      <th>4</th>\n",
       "      <td>2022-03-01</td>\n",
       "      <td>6</td>\n",
       "      <td>29</td>\n",
       "      <td>29</td>\n",
       "      <td>198</td>\n",
       "      <td>846</td>\n",
       "      <td>77</td>\n",
       "      <td>24</td>\n",
       "      <td>305</td>\n",
       "      <td>60</td>\n",
       "      <td>3</td>\n",
       "      <td>2</td>\n",
       "      <td>7</td>\n",
       "      <td>NaN</td>\n",
       "      <td>NaN</td>\n",
       "    </tr>\n",
       "  </tbody>\n",
       "</table>\n",
       "</div>"
      ],
      "text/plain": [
       "         date  day  aircraft  helicopter  tank  APC  field artillery  MRL  \\\n",
       "0  2022-02-25    2        10           7    80  516               49    4   \n",
       "1  2022-02-26    3        27          26   146  706               49    4   \n",
       "2  2022-02-27    4        27          26   150  706               50    4   \n",
       "3  2022-02-28    5        29          29   150  816               74   21   \n",
       "4  2022-03-01    6        29          29   198  846               77   24   \n",
       "\n",
       "   military auto  fuel tank  drone  naval ship  anti-aircraft warfare  \\\n",
       "0            100         60      0           2                      0   \n",
       "1            130         60      2           2                      0   \n",
       "2            130         60      2           2                      0   \n",
       "3            291         60      3           2                      5   \n",
       "4            305         60      3           2                      7   \n",
       "\n",
       "   special equipment  mobile SRBM system  \n",
       "0                NaN                 NaN  \n",
       "1                NaN                 NaN  \n",
       "2                NaN                 NaN  \n",
       "3                NaN                 NaN  \n",
       "4                NaN                 NaN  "
      ]
     },
     "execution_count": 2,
     "metadata": {},
     "output_type": "execute_result"
    }
   ],
   "source": [
    "df=pd.read_csv(\"C:\\\\Users\\\\Shenese\\\\Desktop\\\\russia_losses_equipment.csv\")\n",
    "#Show data\n",
    "df.head()"
   ]
  },
  {
   "cell_type": "code",
   "execution_count": 3,
   "id": "e3f299b8",
   "metadata": {},
   "outputs": [
    {
     "name": "stdout",
     "output_type": "stream",
     "text": [
      "<class 'pandas.core.frame.DataFrame'>\n",
      "RangeIndex: 45 entries, 0 to 44\n",
      "Data columns (total 15 columns):\n",
      " #   Column                 Non-Null Count  Dtype  \n",
      "---  ------                 --------------  -----  \n",
      " 0   date                   45 non-null     object \n",
      " 1   day                    45 non-null     int64  \n",
      " 2   aircraft               45 non-null     int64  \n",
      " 3   helicopter             45 non-null     int64  \n",
      " 4   tank                   45 non-null     int64  \n",
      " 5   APC                    45 non-null     int64  \n",
      " 6   field artillery        45 non-null     int64  \n",
      " 7   MRL                    45 non-null     int64  \n",
      " 8   military auto          45 non-null     int64  \n",
      " 9   fuel tank              45 non-null     int64  \n",
      " 10  drone                  45 non-null     int64  \n",
      " 11  naval ship             45 non-null     int64  \n",
      " 12  anti-aircraft warfare  45 non-null     int64  \n",
      " 13  special equipment      26 non-null     float64\n",
      " 14  mobile SRBM system     16 non-null     float64\n",
      "dtypes: float64(2), int64(12), object(1)\n",
      "memory usage: 5.4+ KB\n"
     ]
    }
   ],
   "source": [
    "#Info about Data\n",
    "df.info()"
   ]
  },
  {
   "cell_type": "code",
   "execution_count": 4,
   "id": "69663b25",
   "metadata": {},
   "outputs": [
    {
     "data": {
      "text/html": [
       "<div>\n",
       "<style scoped>\n",
       "    .dataframe tbody tr th:only-of-type {\n",
       "        vertical-align: middle;\n",
       "    }\n",
       "\n",
       "    .dataframe tbody tr th {\n",
       "        vertical-align: top;\n",
       "    }\n",
       "\n",
       "    .dataframe thead th {\n",
       "        text-align: right;\n",
       "    }\n",
       "</style>\n",
       "<table border=\"1\" class=\"dataframe\">\n",
       "  <thead>\n",
       "    <tr style=\"text-align: right;\">\n",
       "      <th></th>\n",
       "      <th>count</th>\n",
       "      <th>mean</th>\n",
       "      <th>std</th>\n",
       "      <th>min</th>\n",
       "      <th>25%</th>\n",
       "      <th>50%</th>\n",
       "      <th>75%</th>\n",
       "      <th>max</th>\n",
       "    </tr>\n",
       "  </thead>\n",
       "  <tbody>\n",
       "    <tr>\n",
       "      <th>day</th>\n",
       "      <td>45.0</td>\n",
       "      <td>24.000000</td>\n",
       "      <td>13.133926</td>\n",
       "      <td>2.0</td>\n",
       "      <td>13.0</td>\n",
       "      <td>24.0</td>\n",
       "      <td>35.00</td>\n",
       "      <td>46.0</td>\n",
       "    </tr>\n",
       "    <tr>\n",
       "      <th>aircraft</th>\n",
       "      <td>45.0</td>\n",
       "      <td>89.866667</td>\n",
       "      <td>45.086583</td>\n",
       "      <td>10.0</td>\n",
       "      <td>48.0</td>\n",
       "      <td>95.0</td>\n",
       "      <td>131.00</td>\n",
       "      <td>152.0</td>\n",
       "    </tr>\n",
       "    <tr>\n",
       "      <th>helicopter</th>\n",
       "      <td>45.0</td>\n",
       "      <td>96.577778</td>\n",
       "      <td>40.575121</td>\n",
       "      <td>7.0</td>\n",
       "      <td>80.0</td>\n",
       "      <td>115.0</td>\n",
       "      <td>131.00</td>\n",
       "      <td>137.0</td>\n",
       "    </tr>\n",
       "    <tr>\n",
       "      <th>tank</th>\n",
       "      <td>45.0</td>\n",
       "      <td>450.133333</td>\n",
       "      <td>181.772785</td>\n",
       "      <td>80.0</td>\n",
       "      <td>303.0</td>\n",
       "      <td>466.0</td>\n",
       "      <td>605.00</td>\n",
       "      <td>722.0</td>\n",
       "    </tr>\n",
       "    <tr>\n",
       "      <th>APC</th>\n",
       "      <td>45.0</td>\n",
       "      <td>1385.222222</td>\n",
       "      <td>396.810344</td>\n",
       "      <td>516.0</td>\n",
       "      <td>1036.0</td>\n",
       "      <td>1470.0</td>\n",
       "      <td>1723.00</td>\n",
       "      <td>1911.0</td>\n",
       "    </tr>\n",
       "    <tr>\n",
       "      <th>field artillery</th>\n",
       "      <td>45.0</td>\n",
       "      <td>209.866667</td>\n",
       "      <td>100.564678</td>\n",
       "      <td>49.0</td>\n",
       "      <td>120.0</td>\n",
       "      <td>213.0</td>\n",
       "      <td>305.00</td>\n",
       "      <td>342.0</td>\n",
       "    </tr>\n",
       "    <tr>\n",
       "      <th>MRL</th>\n",
       "      <td>45.0</td>\n",
       "      <td>71.333333</td>\n",
       "      <td>29.733666</td>\n",
       "      <td>4.0</td>\n",
       "      <td>56.0</td>\n",
       "      <td>72.0</td>\n",
       "      <td>96.00</td>\n",
       "      <td>108.0</td>\n",
       "    </tr>\n",
       "    <tr>\n",
       "      <th>military auto</th>\n",
       "      <td>45.0</td>\n",
       "      <td>832.911111</td>\n",
       "      <td>398.363517</td>\n",
       "      <td>100.0</td>\n",
       "      <td>474.0</td>\n",
       "      <td>914.0</td>\n",
       "      <td>1184.00</td>\n",
       "      <td>1384.0</td>\n",
       "    </tr>\n",
       "    <tr>\n",
       "      <th>fuel tank</th>\n",
       "      <td>45.0</td>\n",
       "      <td>66.355556</td>\n",
       "      <td>7.317959</td>\n",
       "      <td>60.0</td>\n",
       "      <td>60.0</td>\n",
       "      <td>60.0</td>\n",
       "      <td>75.00</td>\n",
       "      <td>76.0</td>\n",
       "    </tr>\n",
       "    <tr>\n",
       "      <th>drone</th>\n",
       "      <td>45.0</td>\n",
       "      <td>39.333333</td>\n",
       "      <td>39.616342</td>\n",
       "      <td>0.0</td>\n",
       "      <td>7.0</td>\n",
       "      <td>17.0</td>\n",
       "      <td>81.00</td>\n",
       "      <td>112.0</td>\n",
       "    </tr>\n",
       "    <tr>\n",
       "      <th>naval ship</th>\n",
       "      <td>45.0</td>\n",
       "      <td>4.288889</td>\n",
       "      <td>2.117269</td>\n",
       "      <td>2.0</td>\n",
       "      <td>3.0</td>\n",
       "      <td>3.0</td>\n",
       "      <td>7.00</td>\n",
       "      <td>7.0</td>\n",
       "    </tr>\n",
       "    <tr>\n",
       "      <th>anti-aircraft warfare</th>\n",
       "      <td>45.0</td>\n",
       "      <td>37.333333</td>\n",
       "      <td>18.023974</td>\n",
       "      <td>0.0</td>\n",
       "      <td>27.0</td>\n",
       "      <td>44.0</td>\n",
       "      <td>54.00</td>\n",
       "      <td>55.0</td>\n",
       "    </tr>\n",
       "    <tr>\n",
       "      <th>special equipment</th>\n",
       "      <td>26.0</td>\n",
       "      <td>19.346154</td>\n",
       "      <td>5.534924</td>\n",
       "      <td>10.0</td>\n",
       "      <td>15.0</td>\n",
       "      <td>21.0</td>\n",
       "      <td>24.75</td>\n",
       "      <td>25.0</td>\n",
       "    </tr>\n",
       "    <tr>\n",
       "      <th>mobile SRBM system</th>\n",
       "      <td>16.0</td>\n",
       "      <td>3.875000</td>\n",
       "      <td>0.500000</td>\n",
       "      <td>2.0</td>\n",
       "      <td>4.0</td>\n",
       "      <td>4.0</td>\n",
       "      <td>4.00</td>\n",
       "      <td>4.0</td>\n",
       "    </tr>\n",
       "  </tbody>\n",
       "</table>\n",
       "</div>"
      ],
      "text/plain": [
       "                       count         mean         std    min     25%     50%  \\\n",
       "day                     45.0    24.000000   13.133926    2.0    13.0    24.0   \n",
       "aircraft                45.0    89.866667   45.086583   10.0    48.0    95.0   \n",
       "helicopter              45.0    96.577778   40.575121    7.0    80.0   115.0   \n",
       "tank                    45.0   450.133333  181.772785   80.0   303.0   466.0   \n",
       "APC                     45.0  1385.222222  396.810344  516.0  1036.0  1470.0   \n",
       "field artillery         45.0   209.866667  100.564678   49.0   120.0   213.0   \n",
       "MRL                     45.0    71.333333   29.733666    4.0    56.0    72.0   \n",
       "military auto           45.0   832.911111  398.363517  100.0   474.0   914.0   \n",
       "fuel tank               45.0    66.355556    7.317959   60.0    60.0    60.0   \n",
       "drone                   45.0    39.333333   39.616342    0.0     7.0    17.0   \n",
       "naval ship              45.0     4.288889    2.117269    2.0     3.0     3.0   \n",
       "anti-aircraft warfare   45.0    37.333333   18.023974    0.0    27.0    44.0   \n",
       "special equipment       26.0    19.346154    5.534924   10.0    15.0    21.0   \n",
       "mobile SRBM system      16.0     3.875000    0.500000    2.0     4.0     4.0   \n",
       "\n",
       "                           75%     max  \n",
       "day                      35.00    46.0  \n",
       "aircraft                131.00   152.0  \n",
       "helicopter              131.00   137.0  \n",
       "tank                    605.00   722.0  \n",
       "APC                    1723.00  1911.0  \n",
       "field artillery         305.00   342.0  \n",
       "MRL                      96.00   108.0  \n",
       "military auto          1184.00  1384.0  \n",
       "fuel tank                75.00    76.0  \n",
       "drone                    81.00   112.0  \n",
       "naval ship                7.00     7.0  \n",
       "anti-aircraft warfare    54.00    55.0  \n",
       "special equipment        24.75    25.0  \n",
       "mobile SRBM system        4.00     4.0  "
      ]
     },
     "execution_count": 4,
     "metadata": {},
     "output_type": "execute_result"
    }
   ],
   "source": [
    "#Description\n",
    "df.describe().T"
   ]
  },
  {
   "cell_type": "code",
   "execution_count": 5,
   "id": "14fbf149",
   "metadata": {},
   "outputs": [
    {
     "data": {
      "text/plain": [
       "date                      0\n",
       "day                       0\n",
       "aircraft                  0\n",
       "helicopter                0\n",
       "tank                      0\n",
       "APC                       0\n",
       "field artillery           0\n",
       "MRL                       0\n",
       "military auto             0\n",
       "fuel tank                 0\n",
       "drone                     0\n",
       "naval ship                0\n",
       "anti-aircraft warfare     0\n",
       "special equipment        19\n",
       "mobile SRBM system       29\n",
       "dtype: int64"
      ]
     },
     "execution_count": 5,
     "metadata": {},
     "output_type": "execute_result"
    }
   ],
   "source": [
    "#Missing Data\n",
    "df.isnull().sum()"
   ]
  },
  {
   "cell_type": "markdown",
   "id": "f71b3584",
   "metadata": {},
   "source": [
    "# Visualize Data"
   ]
  },
  {
   "cell_type": "code",
   "execution_count": 9,
   "id": "49b7cdc2",
   "metadata": {},
   "outputs": [
    {
     "data": {
      "image/png": "[encoded data removed]",
      "text/plain": [
       "<Figure size 432x288 with 1 Axes>"
      ]
     },
     "metadata": {
      "needs_background": "light"
     },
     "output_type": "display_data"
    }
   ],
   "source": [
    "#Create a scatter plot to view the relationship between two varaibles:\n",
    "plt.scatter(df.day,df.APC)\n",
    "plt.title('Day of War vs. APC')\n",
    "plt.xlabel('day')\n",
    "plt.ylabel('APC')\n",
    "plt.show()"
   ]
  },
  {
   "cell_type": "markdown",
   "id": "4d6f0e20",
   "metadata": {},
   "source": [
    "From the plot we can see that the relationship does not appear linear.\n",
    "As day increases the armored vehicle used to transport personnel increases in a linear fashion."
   ]
  },
  {
   "cell_type": "code",
   "execution_count": 11,
   "id": "c14e7c18",
   "metadata": {},
   "outputs": [
    {
     "data": {
      "text/plain": [
       "<AxesSubplot:>"
      ]
     },
     "execution_count": 11,
     "metadata": {},
     "output_type": "execute_result"
    },
    {
     "data": {
      "image/png": "[encoded data removed]",
      "text/plain": [
       "<Figure size 432x288 with 1 Axes>"
      ]
     },
     "metadata": {
      "needs_background": "light"
     },
     "output_type": "display_data"
    }
   ],
   "source": [
    "#Create a boxplot to visualize the distribution of APC scores and check for outliers\n",
    "df.boxplot(column=['APC'])"
   ]
  },
  {
   "cell_type": "markdown",
   "id": "dfdeaad6",
   "metadata": {},
   "source": [
    "There are no tiny circles in the boxplot, which means there are no outliers in our dataset"
   ]
  },
  {
   "cell_type": "markdown",
   "id": "ead2c6af",
   "metadata": {},
   "source": [
    "# MODEL BUILDING"
   ]
  },
  {
   "cell_type": "markdown",
   "id": "f82646e4",
   "metadata": {},
   "source": [
    "once confirm that our relationship between variables are linear and that there are no outliers present.\n",
    "\n",
    "We can proceed to fit a simple linear regression model using Day as the exploratory variable and APC  as the response variable."
   ]
  },
  {
   "cell_type": "code",
   "execution_count": 12,
   "id": "cd8b88d5",
   "metadata": {},
   "outputs": [],
   "source": [
    "#Split data into exploratory data and response variable:\n"
   ]
  },
  {
   "cell_type": "code",
   "execution_count": 22,
   "id": "ac503e04",
   "metadata": {},
   "outputs": [],
   "source": [
    "#Define response variable:\n",
    "x=df[['day']]"
   ]
  },
  {
   "cell_type": "code",
   "execution_count": 24,
   "id": "534079d7",
   "metadata": {},
   "outputs": [],
   "source": [
    "#Define explanatory variable:\n",
    "y=df['APC']"
   ]
  },
  {
   "cell_type": "code",
   "execution_count": 26,
   "id": "c4ff6f30",
   "metadata": {},
   "outputs": [],
   "source": [
    "#Instantiate model\n",
    "LR=LinearRegression()"
   ]
  },
  {
   "cell_type": "code",
   "execution_count": 28,
   "id": "3a32a396",
   "metadata": {},
   "outputs": [
    {
     "data": {
      "text/plain": [
       "LinearRegression()"
      ]
     },
     "execution_count": 28,
     "metadata": {},
     "output_type": "execute_result"
    }
   ],
   "source": [
    "#Fit model\n",
    "LR.fit(x,y)"
   ]
  },
  {
   "cell_type": "code",
   "execution_count": 30,
   "id": "3b085b0e",
   "metadata": {},
   "outputs": [
    {
     "data": {
      "text/plain": [
       "array([29.81370224])"
      ]
     },
     "execution_count": 30,
     "metadata": {},
     "output_type": "execute_result"
    }
   ],
   "source": [
    "LR.coef_"
   ]
  },
  {
   "cell_type": "code",
   "execution_count": 31,
   "id": "37bceb6c",
   "metadata": {},
   "outputs": [
    {
     "data": {
      "text/plain": [
       "669.6933684672813"
      ]
     },
     "execution_count": 31,
     "metadata": {},
     "output_type": "execute_result"
    }
   ],
   "source": [
    "LR.intercept_"
   ]
  },
  {
   "cell_type": "markdown",
   "id": "8b99013a",
   "metadata": {},
   "source": [
    "From the model summary we can see that the fitted regression equation is:\n",
    "    APC=669.6934+29.814*(days)"
   ]
  },
  {
   "cell_type": "markdown",
   "id": "180472b1",
   "metadata": {},
   "source": [
    "This means that each additional day is associated with the average.\n",
    "Increase in Day score of 29.514 points and intercept value 669.6934 tells us the average.\n",
    "We can look at what will be a predicted APC if war went on for 10 days?"
   ]
  },
  {
   "cell_type": "code",
   "execution_count": 32,
   "id": "396f37c9",
   "metadata": {},
   "outputs": [],
   "source": [
    "war_apc=LR.predict([[10]])"
   ]
  },
  {
   "cell_type": "code",
   "execution_count": 33,
   "id": "bb664520",
   "metadata": {},
   "outputs": [
    {
     "data": {
      "text/plain": [
       "array([967.83039087])"
      ]
     },
     "execution_count": 33,
     "metadata": {},
     "output_type": "execute_result"
    }
   ],
   "source": [
    "war_apc"
   ]
  },
  {
   "cell_type": "markdown",
   "id": "73b5419d",
   "metadata": {},
   "source": [
    "People who went to war for 10 days is expected to receive an APC of 967.830"
   ]
  },
  {
   "cell_type": "markdown",
   "id": "8eab41e0",
   "metadata": {},
   "source": [
    "# Saving Model"
   ]
  },
  {
   "cell_type": "code",
   "execution_count": 35,
   "id": "657d3c68",
   "metadata": {},
   "outputs": [
    {
     "data": {
      "text/plain": [
       "['lr_model.pkl']"
      ]
     },
     "execution_count": 35,
     "metadata": {},
     "output_type": "execute_result"
    }
   ],
   "source": [
    "import joblib\n",
    "joblib.dump(LR, 'lr_model.pkl')"
   ]
  },
  {
   "cell_type": "code",
   "execution_count": null,
   "id": "39b25468",
   "metadata": {},
   "outputs": [],
   "source": []
  },
  {
   "cell_type": "code",
   "execution_count": null,
   "id": "8e1e7b43",
   "metadata": {},
   "outputs": [],
   "source": []
  }
 ],
 "metadata": {
  "kernelspec": {
   "display_name": "Python 3",
   "language": "python",
   "name": "python3"
  },
  "language_info": {
   "codemirror_mode": {
    "name": "ipython",
    "version": 3
   },
   "file_extension": ".py",
   "mimetype": "text/x-python",
   "name": "python",
   "nbconvert_exporter": "python",
   "pygments_lexer": "ipython3",
   "version": "3.8.8"
  }
 },
 "nbformat": 4,
 "nbformat_minor": 5
}
